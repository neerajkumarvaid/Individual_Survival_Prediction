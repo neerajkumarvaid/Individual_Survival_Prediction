{
  "nbformat": 4,
  "nbformat_minor": 0,
  "metadata": {
    "colab": {
      "name": "SurvivalEVAL for Scikit Survival Model.ipynb",
      "provenance": [],
      "collapsed_sections": [],
      "authorship_tag": "ABX9TyObrd3NceVkT5J8I2iIPnlH",
      "include_colab_link": true
    },
    "kernelspec": {
      "name": "python3",
      "display_name": "Python 3"
    },
    "language_info": {
      "name": "python"
    }
  },
  "cells": [
    {
      "cell_type": "markdown",
      "metadata": {
        "id": "view-in-github",
        "colab_type": "text"
      },
      "source": [
        "<a href=\"https://colab.research.google.com/github/neerajkumarvaid/Individual_Survival_Prediction/blob/main/SurvivalEVAL_for_Scikit_Survival_Model.ipynb\" target=\"_parent\"><img src=\"https://colab.research.google.com/assets/colab-badge.svg\" alt=\"Open In Colab\"/></a>"
      ]
    },
    {
      "cell_type": "code",
      "execution_count": 59,
      "metadata": {
        "id": "qNTtS24cBS-y"
      },
      "outputs": [],
      "source": [
        "#!pip install pycox\n",
        "#!pip install scikit-survival"
      ]
    },
    {
      "cell_type": "code",
      "source": [
        "import numpy as np\n",
        "import matplotlib.pyplot as plt\n",
        "\n",
        "from sksurv.datasets import load_gbsg2\n",
        "from sksurv.linear_model import CoxPHSurvivalAnalysis\n",
        "from sksurv.preprocessing import OneHotEncoder\n",
        "from sksurv.metrics import check_y_survival\n",
        "\n",
        "from Evaluator import ScikitSurvivalEvaluator"
      ],
      "metadata": {
        "id": "121Kfqy-FYIF"
      },
      "execution_count": 48,
      "outputs": []
    },
    {
      "cell_type": "code",
      "source": [
        "%matplotlib inline"
      ],
      "metadata": {
        "id": "zPFU6EFeGN01"
      },
      "execution_count": 49,
      "outputs": []
    },
    {
      "cell_type": "code",
      "source": [
        "# load and prepare data\n",
        "X, y = load_gbsg2()\n",
        "X.loc[:, \"tgrade\"] = X.loc[:, \"tgrade\"].map(len).astype(int)\n",
        "Xt = OneHotEncoder().fit_transform(X)"
      ],
      "metadata": {
        "id": "yVwLvjYLGRqb"
      },
      "execution_count": 50,
      "outputs": []
    },
    {
      "cell_type": "code",
      "source": [
        "# Splitting the data into training/testing set. Training set contains 70% of the data. Testing set contains 30%.\n",
        "\n",
        "\n",
        "n = len(Xt)\n",
        "\n",
        "tr_size = int(n*0.70)\n",
        "\n",
        "Xt_train, Xt_test = Xt.iloc[:tr_size, :], Xt.iloc[tr_size:, :]\n",
        "y_train, y_test = y[:tr_size], y[tr_size:]\n",
        "train_event_indicators, train_event_times = check_y_survival(y_train)\n",
        "test_event_indicators, test_event_times = check_y_survival(y_test)"
      ],
      "metadata": {
        "id": "uv3bK5ZtGTSS"
      },
      "execution_count": 51,
      "outputs": []
    },
    {
      "cell_type": "code",
      "source": [
        "# Fit a CoxPH model.\n",
        "est = CoxPHSurvivalAnalysis(ties=\"efron\").fit(Xt_train, y_train)"
      ],
      "metadata": {
        "id": "eHa0CuQCGaF1"
      },
      "execution_count": 52,
      "outputs": []
    },
    {
      "cell_type": "code",
      "source": [
        "# Retrieve individual survival functions and get probability of remaining event free from 1 year to 5 years (=1825 days).\n",
        "survs = est.predict_survival_function(Xt_test)\n"
      ],
      "metadata": {
        "id": "hG0m8b7DGf0B"
      },
      "execution_count": 53,
      "outputs": []
    },
    {
      "cell_type": "code",
      "source": [
        "# Build the evaluator. Training set information (durations_train and events_train) is optional if you don't need Brier score, integrated Brier score, and L1-margin loss.\n",
        "eval = ScikitSurvivalEvaluator(survs, test_event_times, test_event_indicators, train_event_times, train_event_indicators)\n"
      ],
      "metadata": {
        "id": "djvSoEefGlD4"
      },
      "execution_count": 54,
      "outputs": []
    },
    {
      "cell_type": "code",
      "source": [
        "# Calculate the concordance index. ties argument indicates the way ties should be handled. predicted_time_method argument indicates whether using median or mean survival time as the predicted time.\n",
        "cindex, concordant_pairs, total_pairs = eval.concordance(ties=\"None\", predicted_time_method=\"Median\")\n",
        "print(\"Concordance index is {}, meaning that the model can correctly order {} pairs among {} comparable pairs \"\n",
        "      \"in the testing set.\".format(cindex, concordant_pairs, total_pairs))"
      ],
      "metadata": {
        "colab": {
          "base_uri": "https://localhost:8080/"
        },
        "id": "jH-SX5NeGsiS",
        "outputId": "380a7b4d-2eff-4112-a7c0-ebfac334a85e"
      },
      "execution_count": 55,
      "outputs": [
        {
          "output_type": "stream",
          "name": "stdout",
          "text": [
            "Concordance index is 0.6612887062831947, meaning that the model can correctly order 6599.0 pairs among 9979.0 comparable pairs in the testing set.\n"
          ]
        }
      ]
    },
    {
      "cell_type": "code",
      "source": [
        "# Calculate the Brier score at time 175.\n",
        "\n",
        "bs = eval.brier_score(target_time=175)\n",
        "print(\"Brier score at time 175 is {}.\".format(bs))"
      ],
      "metadata": {
        "colab": {
          "base_uri": "https://localhost:8080/"
        },
        "id": "UWgCG1sSGyMz",
        "outputId": "30e87427-8c79-434a-84a5-fbea5f33216c"
      },
      "execution_count": 56,
      "outputs": [
        {
          "output_type": "stream",
          "name": "stdout",
          "text": [
            "Brier score at time 175 is 0.009235037097327979.\n"
          ]
        }
      ]
    },
    {
      "cell_type": "code",
      "source": [
        "# Calculate the l1-margin loss using mean survival times obtain from the survival curves as the predicted survival times. You can set method as 'Hinge' or 'Uncensored' for different l1 loss calculation.\n",
        "l1 = eval.l1_loss(method='Margin', predicted_time_method=\"Median\")\n",
        "print(\"L1-margin loss is {}.\".format(l1))"
      ],
      "metadata": {
        "colab": {
          "base_uri": "https://localhost:8080/"
        },
        "id": "4Nq4vLSZG8SD",
        "outputId": "97907ec7-65ff-4919-e4af-1d48888e74bc"
      },
      "execution_count": 58,
      "outputs": [
        {
          "output_type": "stream",
          "name": "stdout",
          "text": [
            "L1-margin loss is 995.1872169124991.\n"
          ]
        }
      ]
    },
    {
      "cell_type": "code",
      "source": [
        "# L1 Hinge loss calculation\n",
        "l1 = eval.l1_loss(method='Hinge', predicted_time_method=\"Median\")\n",
        "print(\"L1-Hinge loss is {}.\".format(l1))"
      ],
      "metadata": {
        "colab": {
          "base_uri": "https://localhost:8080/"
        },
        "id": "M_23gj_7Iw3W",
        "outputId": "ef0ceed9-dae9-411e-f9bc-61561b819271"
      },
      "execution_count": 61,
      "outputs": [
        {
          "output_type": "stream",
          "name": "stdout",
          "text": [
            "L1-Hinge loss is 518.9045746506413.\n"
          ]
        }
      ]
    },
    {
      "cell_type": "code",
      "source": [
        "# Run one calibration test at 50-percentile-time among all the instances in testing set.\n",
        "\n",
        "t_time = round(np.percentile(test_event_times, 50))\n",
        "p_value, ob, pre = eval.one_calibration(target_time=t_time, method=\"DN\")\n",
        "if p_value >= 0.05:\n",
        "    print(\"The model is one-calibrated at time {}.\".format(t_time))\n",
        "else:\n",
        "    print(\"The model is not one-calibrated at time {}.\".format(t_time))"
      ],
      "metadata": {
        "colab": {
          "base_uri": "https://localhost:8080/"
        },
        "id": "Dmh_JukAHa57",
        "outputId": "2383a723-4c8e-45e9-c61e-ab6150d92ac9"
      },
      "execution_count": 36,
      "outputs": [
        {
          "output_type": "stream",
          "name": "stdout",
          "text": [
            "The model is one-calibrated at time 858.\n"
          ]
        }
      ]
    },
    {
      "cell_type": "code",
      "source": [
        "# Run distribution calibration test.\n",
        "\n",
        "p_value_2, bin_statistics = eval.d_calibration()\n",
        "bins = [\"[0, 0.1)\", \"[0.1, 0.2)\", \"[0.2, 0.3)\", \"[0.3, 0.4)\", \"[0.4, 0.5)\", \"[0.5, 0.6)\", \"[0.6, 0.7)\", \"[0.7, 0.8)\",\n",
        "        \"[0.8, 0.9)\", \"[0.9, 1]\"]\n",
        "plt.clf()\n",
        "fig, ax = plt.subplots()\n",
        "ax.bar(bins, bin_statistics)\n",
        "plt.setp(ax.get_xticklabels(), rotation=30)\n",
        "plt.ylabel(\"Counts in bins\")\n",
        "plt.show()\n",
        "if p_value_2 >= 0.05:\n",
        "    print(\"The model is d-calibrated!\")\n",
        "else:\n",
        "    print(\"The model is not d-calibrated!\")"
      ],
      "metadata": {
        "colab": {
          "base_uri": "https://localhost:8080/",
          "height": 322
        },
        "id": "PHuV-GLXHfox",
        "outputId": "b10583f2-e9bd-4951-9cee-10283a793d09"
      },
      "execution_count": 37,
      "outputs": [
        {
          "output_type": "display_data",
          "data": {
            "text/plain": [
              "<Figure size 432x288 with 0 Axes>"
            ]
          },
          "metadata": {}
        },
        {
          "output_type": "display_data",
          "data": {
            "text/plain": [
              "<Figure size 432x288 with 1 Axes>"
            ],
            "image/png": "[encoded data removed]"
          },
          "metadata": {
            "needs_background": "light"
          }
        },
        {
          "output_type": "stream",
          "name": "stdout",
          "text": [
            "The model is d-calibrated!\n"
          ]
        }
      ]
    }
  ]
}