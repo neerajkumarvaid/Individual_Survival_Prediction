{
  "nbformat": 4,
  "nbformat_minor": 0,
  "metadata": {
    "colab": {
      "name": "SurvivalEVAL for PyCox.ipynb",
      "provenance": [],
      "authorship_tag": "ABX9TyMfb4Uhz8NJsH2jSIkW0Lk3",
      "include_colab_link": true
    },
    "kernelspec": {
      "name": "python3",
      "display_name": "Python 3"
    },
    "language_info": {
      "name": "python"
    }
  },
  "cells": [
    {
      "cell_type": "markdown",
      "metadata": {
        "id": "view-in-github",
        "colab_type": "text"
      },
      "source": [
        "<a href=\"https://colab.research.google.com/github/neerajkumarvaid/Individual_Survival_Prediction/blob/main/SurvivalEVAL_for_PyCox.ipynb\" target=\"_parent\"><img src=\"https://colab.research.google.com/assets/colab-badge.svg\" alt=\"Open In Colab\"/></a>"
      ]
    },
    {
      "cell_type": "markdown",
      "source": [
        "**Evaluation for Pycox model**\n",
        "\n",
        "In this notebook we introduce the use of PycoxEvaluator in the package through an example dataset and a model. The first half of this notebook follows the procedure described in the Pycox example.\n",
        "\n",
        "In the following we will:\n",
        "\n",
        "Load the METABRIC survival dataset and create a LogisticHazard model;\n",
        "Train the model using training set;\n",
        "Evaluate the performance using the concordance, Brier score, L1 loss, 1-calibration, and D-calibration."
      ],
      "metadata": {
        "id": "yB18VmB7L5YI"
      }
    },
    {
      "cell_type": "markdown",
      "source": [
        "**Import Dependencies**\n",
        "\n",
        "Note: You need sklearn-pandas for normalizing the data."
      ],
      "metadata": {
        "id": "UmWQlh2_MHRK"
      }
    },
    {
      "cell_type": "code",
      "source": [
        "#!pip install torchtuples\n",
        "#!pip install pycox\n",
        "!pip install scikit-survival"
      ],
      "metadata": {
        "colab": {
          "base_uri": "https://localhost:8080/"
        },
        "id": "vxAZSnL4MT-c",
        "outputId": "1775ca5e-9359-47d1-f13c-bcdf7676bd28"
      },
      "execution_count": 6,
      "outputs": [
        {
          "output_type": "stream",
          "name": "stdout",
          "text": [
            "Collecting scikit-survival\n",
            "  Downloading scikit-survival-0.17.1.tar.gz (2.5 MB)\n",
            "\u001b[K     |████████████████████████████████| 2.5 MB 5.0 MB/s \n",
            "\u001b[?25h  Installing build dependencies ... \u001b[?25l\u001b[?25hdone\n",
            "  Getting requirements to build wheel ... \u001b[?25l\u001b[?25hdone\n",
            "    Preparing wheel metadata ... \u001b[?25l\u001b[?25hdone\n",
            "Requirement already satisfied: joblib in /usr/local/lib/python3.7/dist-packages (from scikit-survival) (1.1.0)\n",
            "Requirement already satisfied: scikit-learn<1.1,>=1.0.0 in /usr/local/lib/python3.7/dist-packages (from scikit-survival) (1.0.2)\n",
            "Requirement already satisfied: numpy in /usr/local/lib/python3.7/dist-packages (from scikit-survival) (1.21.5)\n",
            "Requirement already satisfied: ecos in /usr/local/lib/python3.7/dist-packages (from scikit-survival) (2.0.10)\n",
            "Requirement already satisfied: numexpr in /usr/local/lib/python3.7/dist-packages (from scikit-survival) (2.8.1)\n",
            "Requirement already satisfied: scipy!=1.3.0,>=1.0 in /usr/local/lib/python3.7/dist-packages (from scikit-survival) (1.4.1)\n",
            "Requirement already satisfied: pandas>=0.25 in /usr/local/lib/python3.7/dist-packages (from scikit-survival) (1.3.5)\n",
            "Requirement already satisfied: osqp!=0.6.0,!=0.6.1 in /usr/local/lib/python3.7/dist-packages (from scikit-survival) (0.6.2.post0)\n",
            "Requirement already satisfied: qdldl in /usr/local/lib/python3.7/dist-packages (from osqp!=0.6.0,!=0.6.1->scikit-survival) (0.1.5.post0)\n",
            "Requirement already satisfied: python-dateutil>=2.7.3 in /usr/local/lib/python3.7/dist-packages (from pandas>=0.25->scikit-survival) (2.8.2)\n",
            "Requirement already satisfied: pytz>=2017.3 in /usr/local/lib/python3.7/dist-packages (from pandas>=0.25->scikit-survival) (2018.9)\n",
            "Requirement already satisfied: six>=1.5 in /usr/local/lib/python3.7/dist-packages (from python-dateutil>=2.7.3->pandas>=0.25->scikit-survival) (1.15.0)\n",
            "Requirement already satisfied: threadpoolctl>=2.0.0 in /usr/local/lib/python3.7/dist-packages (from scikit-learn<1.1,>=1.0.0->scikit-survival) (3.1.0)\n",
            "Requirement already satisfied: packaging in /usr/local/lib/python3.7/dist-packages (from numexpr->scikit-survival) (21.3)\n",
            "Requirement already satisfied: pyparsing!=3.0.5,>=2.0.2 in /usr/local/lib/python3.7/dist-packages (from packaging->numexpr->scikit-survival) (3.0.7)\n",
            "Building wheels for collected packages: scikit-survival\n",
            "  Building wheel for scikit-survival (PEP 517) ... \u001b[?25l\u001b[?25hdone\n",
            "  Created wheel for scikit-survival: filename=scikit_survival-0.17.1-cp37-cp37m-linux_x86_64.whl size=4088303 sha256=3ac012a5a0c43174026b929537a720b74452f1458047dd61e15e010b099b32f5\n",
            "  Stored in directory: /root/.cache/pip/wheels/78/43/46/b5c9ba2d44e7e5de3d321c76bbff4e5480cd69d486b38d359f\n",
            "Successfully built scikit-survival\n",
            "Installing collected packages: scikit-survival\n",
            "Successfully installed scikit-survival-0.17.1\n"
          ]
        }
      ]
    },
    {
      "cell_type": "code",
      "source": [
        "import numpy as np\n",
        "import matplotlib.pyplot as plt\n",
        "\n",
        "# For preprocessing\n",
        "from sklearn.preprocessing import StandardScaler\n",
        "from sklearn_pandas import DataFrameMapper\n",
        "\n",
        "import torch # For building the networks\n",
        "import torchtuples as tt # Some useful functions\n",
        "\n",
        "from pycox.datasets import metabric\n",
        "from pycox.models import LogisticHazard\n",
        "\n",
        "from Evaluator import PycoxEvaluator"
      ],
      "metadata": {
        "id": "Dvm8U3k4MJ8S"
      },
      "execution_count": 7,
      "outputs": []
    },
    {
      "cell_type": "code",
      "source": [
        "%matplotlib inline"
      ],
      "metadata": {
        "id": "2sfdTSE6ML3Q"
      },
      "execution_count": 8,
      "outputs": []
    },
    {
      "cell_type": "code",
      "source": [
        "# Set seed for torch and numpy\n",
        "\n",
        "np.random.seed(1234)\n",
        "_ = torch.manual_seed(123)"
      ],
      "metadata": {
        "id": "AVyWCNluM1Ml"
      },
      "execution_count": 9,
      "outputs": []
    },
    {
      "cell_type": "code",
      "source": [
        "# Load the dataset, split it into training (64%), validation (16%) and testing set (20%). Then standardize the covariates.\n",
        "\n",
        "df_train = metabric.read_df()\n",
        "df_test = df_train.sample(frac=0.2)\n",
        "df_train = df_train.drop(df_test.index)\n",
        "df_val = df_train.sample(frac=0.2)\n",
        "df_train = df_train.drop(df_val.index)\n",
        "\n",
        "cols_standardize = ['x0', 'x1', 'x2', 'x3', 'x8']\n",
        "cols_leave = ['x4', 'x5', 'x6', 'x7']\n",
        "\n",
        "standardize = [([col], StandardScaler()) for col in cols_standardize]\n",
        "leave = [(col, None) for col in cols_leave]\n",
        "\n",
        "x_mapper = DataFrameMapper(standardize + leave)\n",
        "\n",
        "x_train = x_mapper.fit_transform(df_train).astype('float32')\n",
        "x_val = x_mapper.transform(df_val).astype('float32')\n",
        "x_test = x_mapper.transform(df_test).astype('float32')\n"
      ],
      "metadata": {
        "colab": {
          "base_uri": "https://localhost:8080/"
        },
        "id": "K7KzklLlM4se",
        "outputId": "bbc575d3-da78-42ae-9f34-ea050af6d900"
      },
      "execution_count": 10,
      "outputs": [
        {
          "output_type": "stream",
          "name": "stdout",
          "text": [
            "Dataset 'metabric' not locally available. Downloading...\n",
            "Done\n"
          ]
        }
      ]
    },
    {
      "cell_type": "code",
      "source": [
        "# Build the model and train it.\n",
        "\n",
        "num_durations = 10\n",
        "\n",
        "labtrans = LogisticHazard.label_transform(num_durations)\n",
        "\n",
        "get_target = lambda df: (df['duration'].values, df['event'].values)\n",
        "y_train = labtrans.fit_transform(*get_target(df_train))\n",
        "y_val = labtrans.transform(*get_target(df_val))\n",
        "\n",
        "train = (x_train, y_train)\n",
        "val = (x_val, y_val)\n",
        "\n",
        "# We don't need to transform the test labels\n",
        "durations_test, events_test = get_target(df_test)\n",
        "durations_train, events_train = get_target(df_train)\n",
        "\n",
        "in_features = x_train.shape[1]\n",
        "num_nodes = [32, 32]\n",
        "out_features = labtrans.out_features\n",
        "batch_norm = True\n",
        "dropout = 0.1\n",
        "\n",
        "net = tt.practical.MLPVanilla(in_features, num_nodes, out_features, batch_norm, dropout)\n",
        "\n",
        "model = LogisticHazard(net, tt.optim.Adam(0.01), duration_index=labtrans.cuts)\n",
        "\n",
        "batch_size = 256\n",
        "epochs = 100\n",
        "callbacks = [tt.cb.EarlyStopping()]\n",
        "\n",
        "log = model.fit(x_train, y_train, batch_size, epochs, callbacks, val_data=val)"
      ],
      "metadata": {
        "colab": {
          "base_uri": "https://localhost:8080/"
        },
        "id": "lJTuntbiM93f",
        "outputId": "9a7e0b99-2cd6-4ade-b297-275ece5a5ac9"
      },
      "execution_count": 11,
      "outputs": [
        {
          "output_type": "stream",
          "name": "stdout",
          "text": [
            "0:\t[0s / 0s],\t\ttrain_loss: 2.9263,\tval_loss: 2.7659\n",
            "1:\t[0s / 0s],\t\ttrain_loss: 2.6603,\tval_loss: 2.5461\n",
            "2:\t[0s / 0s],\t\ttrain_loss: 2.3791,\tval_loss: 2.2354\n",
            "3:\t[0s / 0s],\t\ttrain_loss: 2.0756,\tval_loss: 1.9005\n",
            "4:\t[0s / 0s],\t\ttrain_loss: 1.7898,\tval_loss: 1.5965\n",
            "5:\t[0s / 0s],\t\ttrain_loss: 1.5691,\tval_loss: 1.4399\n",
            "6:\t[0s / 0s],\t\ttrain_loss: 1.4533,\tval_loss: 1.3834\n",
            "7:\t[0s / 0s],\t\ttrain_loss: 1.4080,\tval_loss: 1.3732\n",
            "8:\t[0s / 0s],\t\ttrain_loss: 1.3977,\tval_loss: 1.3749\n",
            "9:\t[0s / 0s],\t\ttrain_loss: 1.3683,\tval_loss: 1.3710\n",
            "10:\t[0s / 0s],\t\ttrain_loss: 1.3406,\tval_loss: 1.3672\n",
            "11:\t[0s / 0s],\t\ttrain_loss: 1.3476,\tval_loss: 1.3632\n",
            "12:\t[0s / 0s],\t\ttrain_loss: 1.3404,\tval_loss: 1.3599\n",
            "13:\t[0s / 0s],\t\ttrain_loss: 1.3284,\tval_loss: 1.3536\n",
            "14:\t[0s / 0s],\t\ttrain_loss: 1.3253,\tval_loss: 1.3544\n",
            "15:\t[0s / 0s],\t\ttrain_loss: 1.3170,\tval_loss: 1.3566\n",
            "16:\t[0s / 0s],\t\ttrain_loss: 1.3101,\tval_loss: 1.3618\n",
            "17:\t[0s / 0s],\t\ttrain_loss: 1.3191,\tval_loss: 1.3643\n",
            "18:\t[0s / 0s],\t\ttrain_loss: 1.2992,\tval_loss: 1.3638\n",
            "19:\t[0s / 0s],\t\ttrain_loss: 1.2867,\tval_loss: 1.3570\n",
            "20:\t[0s / 0s],\t\ttrain_loss: 1.2903,\tval_loss: 1.3649\n",
            "21:\t[0s / 0s],\t\ttrain_loss: 1.2903,\tval_loss: 1.3677\n",
            "22:\t[0s / 0s],\t\ttrain_loss: 1.2833,\tval_loss: 1.3673\n",
            "23:\t[0s / 0s],\t\ttrain_loss: 1.2822,\tval_loss: 1.3744\n"
          ]
        }
      ]
    },
    {
      "cell_type": "code",
      "source": [
        "# Make the prediction. surv is a Dataframe object with index represents the time coordinates, and values represents the survival curves.\n",
        "\n",
        "surv = model.interpolate(10).predict_surv_df(x_test)\n"
      ],
      "metadata": {
        "id": "2kQaTyqINDYV"
      },
      "execution_count": 12,
      "outputs": []
    },
    {
      "cell_type": "code",
      "source": [
        "# Build the evaluator. Training set information (durations_train and events_train) is optional if you don't need Brier score, integrated Brier score, and L1-margin loss.\n",
        "\n",
        "eval = PycoxEvaluator(surv, durations_test, events_test, durations_train, events_train)\n"
      ],
      "metadata": {
        "id": "98upMu28NIRt"
      },
      "execution_count": 13,
      "outputs": []
    },
    {
      "cell_type": "code",
      "source": [
        "# Calculate the concordance index. ties argument indicates the way ties should be handled. predicted_time_method argument indicates whether using median or mean survival time as the predicted time.\n",
        "cindex, concordant_pairs, total_pairs = eval.concordance(ties=\"None\", predicted_time_method=\"Median\")\n",
        "print(\"Concordance index is {}, meaning that the model can correctly order {} pairs among {} comparable pairs \"\n",
        "      \"in the testing set.\".format(cindex, concordant_pairs, total_pairs))\n"
      ],
      "metadata": {
        "colab": {
          "base_uri": "https://localhost:8080/"
        },
        "id": "gB-nv1MXNLHr",
        "outputId": "ed603338-8935-44a9-e894-348d764ea990"
      },
      "execution_count": 14,
      "outputs": [
        {
          "output_type": "stream",
          "name": "stdout",
          "text": [
            "Concordance index is 0.6424180762219679, meaning that the model can correctly order 30308.0 pairs among 47178.0 comparable pairs in the testing set.\n"
          ]
        }
      ]
    },
    {
      "cell_type": "code",
      "source": [
        "# Calculate the Brier score at time 175.\n",
        "bs = eval.brier_score(target_time=175)\n",
        "print(\"Brier score at time 175 is {}.\".format(bs))"
      ],
      "metadata": {
        "colab": {
          "base_uri": "https://localhost:8080/"
        },
        "id": "bKWvQLfaNPZ2",
        "outputId": "511c862f-dedd-4870-ac58-f24953c520ff"
      },
      "execution_count": 15,
      "outputs": [
        {
          "output_type": "stream",
          "name": "stdout",
          "text": [
            "Brier score at time 175 is 0.2130840160707278.\n"
          ]
        }
      ]
    },
    {
      "cell_type": "code",
      "source": [
        "# Calculate the l1-margin loss using mean survival times obtain from the survival curves as the predicted survival times. You can set method as 'Hinge' or 'Uncensored' for different l1 loss calculation.\n",
        "l1 = eval.l1_loss(method='Margin', predicted_time_method=\"Mean\")\n",
        "print(\"L1-margin loss is {}.\".format(l1))"
      ],
      "metadata": {
        "colab": {
          "base_uri": "https://localhost:8080/"
        },
        "id": "noTw7jwpNVZA",
        "outputId": "7f0d3da6-b0a1-4144-f62d-5e212160eccb"
      },
      "execution_count": 16,
      "outputs": [
        {
          "output_type": "stream",
          "name": "stderr",
          "text": [
            "/content/Evaluations/util.py:192: IntegrationWarning: The occurrence of roundoff error is detected, which prevents \n",
            "  the requested tolerance from being achieved.  The error may be \n",
            "  underestimated.\n",
            "  args=(max_time, slope), limit=1000)\n"
          ]
        },
        {
          "output_type": "stream",
          "name": "stdout",
          "text": [
            "L1-margin loss is 78.61145942387915.\n"
          ]
        }
      ]
    },
    {
      "cell_type": "code",
      "source": [
        "# L1 Hinge loss calculation\n",
        "l1 = eval.l1_loss(method='Hinge', predicted_time_method=\"Median\")\n",
        "print(\"L1-Hinge loss is {}.\".format(l1))"
      ],
      "metadata": {
        "colab": {
          "base_uri": "https://localhost:8080/"
        },
        "id": "G289Io9NNars",
        "outputId": "9390b255-1d29-4a3d-8622-b8b04257fecb"
      },
      "execution_count": 17,
      "outputs": [
        {
          "output_type": "stream",
          "name": "stdout",
          "text": [
            "L1-Hinge loss is 52.07374887196903.\n"
          ]
        }
      ]
    },
    {
      "cell_type": "code",
      "source": [
        "# Run one calibration test at 50% time of the testing set.\n",
        "\n",
        "t_time = round(np.percentile(durations_test, 50))\n",
        "p_value, ob, pre = eval.one_calibration(target_time=t_time, method=\"DN\")\n",
        "if p_value >= 0.05:\n",
        "    print(\"The model is one-calibrated at time {}.\".format(t_time))\n",
        "else:\n",
        "    print(\"The model is not one-calibrated at time {}.\".format(t_time))\n"
      ],
      "metadata": {
        "colab": {
          "base_uri": "https://localhost:8080/"
        },
        "id": "YbXqvytVNddL",
        "outputId": "6ce0d92d-c142-4c8d-d092-219f981baece"
      },
      "execution_count": 18,
      "outputs": [
        {
          "output_type": "stream",
          "name": "stdout",
          "text": [
            "The model is one-calibrated at time 113.\n"
          ]
        }
      ]
    },
    {
      "cell_type": "code",
      "source": [
        "# Run distribution calibration test.\n",
        "\n",
        "p_value_2, bin_statistics = eval.d_calibration()\n",
        "bins = [\"[0, 0.1)\", \"[0.1, 0.2)\", \"[0.2, 0.3)\", \"[0.3, 0.4)\", \"[0.4, 0.5)\", \"[0.5, 0.6)\", \"[0.6, 0.7)\", \"[0.7, 0.8)\",\n",
        "        \"[0.8, 0.9)\", \"[0.9, 1]\"]\n",
        "plt.clf()\n",
        "fig, ax = plt.subplots()\n",
        "ax.bar(bins, bin_statistics)\n",
        "plt.setp(ax.get_xticklabels(), rotation=30)\n",
        "plt.ylabel(\"Counts in bins\")\n",
        "plt.show()\n",
        "if p_value_2 >= 0.05:\n",
        "    print(\"The model is d-calibrated!\")\n",
        "else:\n",
        "    print(\"The model is not d-calibrated!\")"
      ],
      "metadata": {
        "colab": {
          "base_uri": "https://localhost:8080/",
          "height": 325
        },
        "id": "rqGaFEh0NiZK",
        "outputId": "9f189c49-dc32-45e4-8122-03f7498049f3"
      },
      "execution_count": 19,
      "outputs": [
        {
          "output_type": "display_data",
          "data": {
            "text/plain": [
              "<Figure size 432x288 with 0 Axes>"
            ]
          },
          "metadata": {}
        },
        {
          "output_type": "display_data",
          "data": {
            "text/plain": [
              "<Figure size 432x288 with 1 Axes>"
            ],
            "image/png": "[encoded data removed]"
          },
          "metadata": {
            "needs_background": "light"
          }
        },
        {
          "output_type": "stream",
          "name": "stdout",
          "text": [
            "The model is d-calibrated!\n"
          ]
        }
      ]
    }
  ]
}